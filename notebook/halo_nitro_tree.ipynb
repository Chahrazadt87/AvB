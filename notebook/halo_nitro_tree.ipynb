{
 "cells": [
  {
   "cell_type": "markdown",
   "metadata": {},
   "source": [
    "# Tree of hydrolase 2090 homologs in Halobacteria and Nitrososphaeria\n",
    "\n",
    "General approach:\n",
    "\n",
    "- Load hydrolase 2090 homologs (*)\n",
    "- Load GTDB archaeal tree (ar53 tree from release 214)\n",
    "- Extract two GTDB class subtrees: Halobacteria and Nitrososphaeria\n",
    "- Annotate entries homologous to A/B hydrolase 2090 from _Haloferax S5a-1_\n",
    "\n",
    "(*) only considering entries present in our balanced subset of [GTDB (release 214)](https://gtdb.ecogenomic.org/) nicknamed `db_proka` ([Strock et al., 2024](https://doi.org/10.1101/2024.09.18.613068)).<br>Linking protein IDs from the wider GTDB to their NCBI accession is surprinsingly difficult.<br>In any case, GTDB only includes one representative per species in the tree."
   ]
  },
  {
   "cell_type": "code",
   "execution_count": 25,
   "metadata": {},
   "outputs": [],
   "source": [
    "import os\n",
    "from pathlib import Path\n",
    "import re\n",
    "\n",
    "import numpy as np\n",
    "import pandas as pd\n",
    "from Bio import SeqIO\n",
    "from Bio import Phylo\n",
    "\n",
    "cwd = os.getcwd()\n",
    "if cwd.endswith('notebook'):\n",
    "    os.chdir('..')\n",
    "    cwd = os.getcwd()\n",
    "\n",
    "from src.tree.tree_util import prune_leaves_with_unknown_id\n",
    "from src.tree.itol_annotation import itol_labels, itol_color_strip_annotations, itol_binary_annotations\n",
    "from src.utils.palette import palette_20"
   ]
  },
  {
   "cell_type": "code",
   "execution_count": 2,
   "metadata": {},
   "outputs": [],
   "source": [
    "data_folder = Path('./data')\n",
    "assert data_folder.is_dir()"
   ]
  },
  {
   "cell_type": "markdown",
   "metadata": {},
   "source": [
    "## Load hydrolase 2090 homologs"
   ]
  },
  {
   "cell_type": "code",
   "execution_count": 30,
   "metadata": {},
   "outputs": [
    {
     "name": "stdout",
     "output_type": "stream",
     "text": [
      "Number of hits present in our internal DB Proka (subset of GTDB 214): 191 (38%)\n"
     ]
    },
    {
     "data": {
      "text/html": [
       "<div>\n",
       "<style scoped>\n",
       "    .dataframe tbody tr th:only-of-type {\n",
       "        vertical-align: middle;\n",
       "    }\n",
       "\n",
       "    .dataframe tbody tr th {\n",
       "        vertical-align: top;\n",
       "    }\n",
       "\n",
       "    .dataframe thead th {\n",
       "        text-align: right;\n",
       "    }\n",
       "</style>\n",
       "<table border=\"1\" class=\"dataframe\">\n",
       "  <thead>\n",
       "    <tr style=\"text-align: right;\">\n",
       "      <th></th>\n",
       "      <th>id</th>\n",
       "      <th>gtdb_id</th>\n",
       "      <th>db_proka_id</th>\n",
       "      <th>uniprot_id</th>\n",
       "      <th>domain</th>\n",
       "      <th>gtdb_phylum</th>\n",
       "      <th>gtdb_class</th>\n",
       "      <th>gtdb_order</th>\n",
       "      <th>gtdb_family</th>\n",
       "      <th>gtdb_genus</th>\n",
       "      <th>...</th>\n",
       "      <th>ncbi_class</th>\n",
       "      <th>ncbi_order</th>\n",
       "      <th>ncbi_family</th>\n",
       "      <th>ncbi_genus</th>\n",
       "      <th>ncbi_species</th>\n",
       "      <th>tstart</th>\n",
       "      <th>tend</th>\n",
       "      <th>evalue</th>\n",
       "      <th>bits</th>\n",
       "      <th>assembly_accession</th>\n",
       "    </tr>\n",
       "  </thead>\n",
       "  <tbody>\n",
       "    <tr>\n",
       "      <th>1</th>\n",
       "      <td>M0GTD3</td>\n",
       "      <td>NZ_AOLI01000034.1_29</td>\n",
       "      <td>WP_007545272.1@GCF_000336955.1</td>\n",
       "      <td>M0GTD3</td>\n",
       "      <td>Archaea</td>\n",
       "      <td>Halobacteriota</td>\n",
       "      <td>Halobacteria</td>\n",
       "      <td>Halobacteriales</td>\n",
       "      <td>Haloferacaceae</td>\n",
       "      <td>Haloferax</td>\n",
       "      <td>...</td>\n",
       "      <td>Halobacteria</td>\n",
       "      <td>Haloferacales</td>\n",
       "      <td>Haloferacaceae</td>\n",
       "      <td>Haloferax</td>\n",
       "      <td>Haloferax larsenii</td>\n",
       "      <td>1</td>\n",
       "      <td>290</td>\n",
       "      <td>7.391000e-185</td>\n",
       "      <td>581</td>\n",
       "      <td>GCF_000336955.1</td>\n",
       "    </tr>\n",
       "    <tr>\n",
       "      <th>5</th>\n",
       "      <td>I3R2Q4</td>\n",
       "      <td>NC_017941.2_785</td>\n",
       "      <td>WP_004057439.1@GCF_000306765.2</td>\n",
       "      <td>I3R2Q4</td>\n",
       "      <td>Archaea</td>\n",
       "      <td>Halobacteriota</td>\n",
       "      <td>Halobacteria</td>\n",
       "      <td>Halobacteriales</td>\n",
       "      <td>Haloferacaceae</td>\n",
       "      <td>Haloferax</td>\n",
       "      <td>...</td>\n",
       "      <td>Halobacteria</td>\n",
       "      <td>Haloferacales</td>\n",
       "      <td>Haloferacaceae</td>\n",
       "      <td>Haloferax</td>\n",
       "      <td>Haloferax mediterranei</td>\n",
       "      <td>1</td>\n",
       "      <td>290</td>\n",
       "      <td>3.791000e-139</td>\n",
       "      <td>449</td>\n",
       "      <td>GCF_000306765.2</td>\n",
       "    </tr>\n",
       "    <tr>\n",
       "      <th>8</th>\n",
       "      <td>A0A371N295</td>\n",
       "      <td>NZ_AOLJ01000011.1_106</td>\n",
       "      <td>WP_004972615.1@GCF_000336775.1</td>\n",
       "      <td>A0A371N295</td>\n",
       "      <td>Archaea</td>\n",
       "      <td>Halobacteriota</td>\n",
       "      <td>Halobacteria</td>\n",
       "      <td>Halobacteriales</td>\n",
       "      <td>Haloferacaceae</td>\n",
       "      <td>Haloferax</td>\n",
       "      <td>...</td>\n",
       "      <td>Halobacteria</td>\n",
       "      <td>Haloferacales</td>\n",
       "      <td>Haloferacaceae</td>\n",
       "      <td>Haloferax</td>\n",
       "      <td>Haloferax sp. Atlit-6N</td>\n",
       "      <td>1</td>\n",
       "      <td>290</td>\n",
       "      <td>5.312000e-136</td>\n",
       "      <td>440</td>\n",
       "      <td>GCF_000336775.1</td>\n",
       "    </tr>\n",
       "    <tr>\n",
       "      <th>11</th>\n",
       "      <td>A0A371LK82</td>\n",
       "      <td>NZ_AOLG01000009.1_386</td>\n",
       "      <td>WP_008092295.1@GCF_000336815.1</td>\n",
       "      <td>A0A371LK82</td>\n",
       "      <td>Archaea</td>\n",
       "      <td>Halobacteriota</td>\n",
       "      <td>Halobacteria</td>\n",
       "      <td>Halobacteriales</td>\n",
       "      <td>Haloferacaceae</td>\n",
       "      <td>Haloferax</td>\n",
       "      <td>...</td>\n",
       "      <td>Halobacteria</td>\n",
       "      <td>Haloferacales</td>\n",
       "      <td>Haloferacaceae</td>\n",
       "      <td>Haloferax</td>\n",
       "      <td>Haloferax sp. Atlit-16N</td>\n",
       "      <td>1</td>\n",
       "      <td>290</td>\n",
       "      <td>6.602000e-135</td>\n",
       "      <td>437</td>\n",
       "      <td>GCF_000336815.1</td>\n",
       "    </tr>\n",
       "    <tr>\n",
       "      <th>12</th>\n",
       "      <td>WP_058828042.1@GCF_001482285.1</td>\n",
       "      <td>NZ_LOEP01000032.1_74</td>\n",
       "      <td>WP_058828042.1@GCF_001482285.1</td>\n",
       "      <td>NaN</td>\n",
       "      <td>Archaea</td>\n",
       "      <td>Halobacteriota</td>\n",
       "      <td>Halobacteria</td>\n",
       "      <td>Halobacteriales</td>\n",
       "      <td>Haloferacaceae</td>\n",
       "      <td>Haloferax</td>\n",
       "      <td>...</td>\n",
       "      <td>NaN</td>\n",
       "      <td>NaN</td>\n",
       "      <td>NaN</td>\n",
       "      <td>NaN</td>\n",
       "      <td>NaN</td>\n",
       "      <td>1</td>\n",
       "      <td>290</td>\n",
       "      <td>4.818000e-135</td>\n",
       "      <td>437</td>\n",
       "      <td>GCF_001482285.1</td>\n",
       "    </tr>\n",
       "  </tbody>\n",
       "</table>\n",
       "<p>5 rows × 22 columns</p>\n",
       "</div>"
      ],
      "text/plain": [
       "                                id                gtdb_id  \\\n",
       "1                           M0GTD3   NZ_AOLI01000034.1_29   \n",
       "5                           I3R2Q4        NC_017941.2_785   \n",
       "8                       A0A371N295  NZ_AOLJ01000011.1_106   \n",
       "11                      A0A371LK82  NZ_AOLG01000009.1_386   \n",
       "12  WP_058828042.1@GCF_001482285.1   NZ_LOEP01000032.1_74   \n",
       "\n",
       "                       db_proka_id  uniprot_id   domain     gtdb_phylum  \\\n",
       "1   WP_007545272.1@GCF_000336955.1      M0GTD3  Archaea  Halobacteriota   \n",
       "5   WP_004057439.1@GCF_000306765.2      I3R2Q4  Archaea  Halobacteriota   \n",
       "8   WP_004972615.1@GCF_000336775.1  A0A371N295  Archaea  Halobacteriota   \n",
       "11  WP_008092295.1@GCF_000336815.1  A0A371LK82  Archaea  Halobacteriota   \n",
       "12  WP_058828042.1@GCF_001482285.1         NaN  Archaea  Halobacteriota   \n",
       "\n",
       "      gtdb_class       gtdb_order     gtdb_family gtdb_genus  ...  \\\n",
       "1   Halobacteria  Halobacteriales  Haloferacaceae  Haloferax  ...   \n",
       "5   Halobacteria  Halobacteriales  Haloferacaceae  Haloferax  ...   \n",
       "8   Halobacteria  Halobacteriales  Haloferacaceae  Haloferax  ...   \n",
       "11  Halobacteria  Halobacteriales  Haloferacaceae  Haloferax  ...   \n",
       "12  Halobacteria  Halobacteriales  Haloferacaceae  Haloferax  ...   \n",
       "\n",
       "      ncbi_class     ncbi_order     ncbi_family ncbi_genus  \\\n",
       "1   Halobacteria  Haloferacales  Haloferacaceae  Haloferax   \n",
       "5   Halobacteria  Haloferacales  Haloferacaceae  Haloferax   \n",
       "8   Halobacteria  Haloferacales  Haloferacaceae  Haloferax   \n",
       "11  Halobacteria  Haloferacales  Haloferacaceae  Haloferax   \n",
       "12           NaN            NaN             NaN        NaN   \n",
       "\n",
       "               ncbi_species tstart tend         evalue  bits  \\\n",
       "1        Haloferax larsenii      1  290  7.391000e-185   581   \n",
       "5    Haloferax mediterranei      1  290  3.791000e-139   449   \n",
       "8    Haloferax sp. Atlit-6N      1  290  5.312000e-136   440   \n",
       "11  Haloferax sp. Atlit-16N      1  290  6.602000e-135   437   \n",
       "12                      NaN      1  290  4.818000e-135   437   \n",
       "\n",
       "    assembly_accession  \n",
       "1      GCF_000336955.1  \n",
       "5      GCF_000306765.2  \n",
       "8      GCF_000336775.1  \n",
       "11     GCF_000336815.1  \n",
       "12     GCF_001482285.1  \n",
       "\n",
       "[5 rows x 22 columns]"
      ]
     },
     "execution_count": 30,
     "metadata": {},
     "output_type": "execute_result"
    }
   ],
   "source": [
    "hits = pd.read_csv(data_folder / 'hydrolase_search' / 'search_output.csv')\n",
    "\n",
    "db_proka_hits = hits[hits['db_proka_id'].notnull()].copy()\n",
    "db_proka_hits['assembly_accession'] = db_proka_hits['db_proka_id'].apply(lambda v: v.split('@')[1])\n",
    "\n",
    "n = len(db_proka_hits)\n",
    "total = len(hits)\n",
    "percent = 100 * n / total\n",
    "\n",
    "print(f'Number of hits present in our internal DB Proka (subset of GTDB 214): {n:,} ({percent:.0f}%)')\n",
    "\n",
    "db_proka_hits.head()"
   ]
  },
  {
   "cell_type": "code",
   "execution_count": 4,
   "metadata": {},
   "outputs": [
    {
     "name": "stdout",
     "output_type": "stream",
     "text": [
      "Number of archaeal hits: 180\n"
     ]
    }
   ],
   "source": [
    "n_archaea = len(db_proka_hits[db_proka_hits['domain'] == 'Archaea'])\n",
    "print(f'Number of archaeal hits: {n_archaea:,}')"
   ]
  },
  {
   "cell_type": "markdown",
   "metadata": {},
   "source": [
    "## Load archaeal tree from GTDB (release 214)"
   ]
  },
  {
   "cell_type": "code",
   "execution_count": 5,
   "metadata": {},
   "outputs": [],
   "source": [
    "gtdb_metadata = pd.read_csv(data_folder / 'GTDB_214.1' / 'db_proka_metadata.csv.gz', index_col='ncbi_accession')"
   ]
  },
  {
   "cell_type": "code",
   "execution_count": 6,
   "metadata": {},
   "outputs": [],
   "source": [
    "halo_genomes = gtdb_metadata[gtdb_metadata['gtdb_class'] == 'Halobacteria'].copy()\n",
    "halo_genome_accessions = set(halo_genomes.index)\n",
    "\n",
    "thermo_genomes = gtdb_metadata[gtdb_metadata['gtdb_class'] == 'Nitrososphaeria'].copy()\n",
    "thermo_genomes_accessions = set(thermo_genomes.index)"
   ]
  },
  {
   "cell_type": "code",
   "execution_count": 7,
   "metadata": {},
   "outputs": [],
   "source": [
    "archaeal_tree = Phylo.read(data_folder / 'GTDB_214.1' / 'db_proka_ar53.tree', 'phyloxml')\n",
    "\n",
    "# Remove prefix GB_ or RS_ from accession\n",
    "for leaf in archaeal_tree.get_terminals():\n",
    "    accession = leaf.name[3:]\n",
    "    leaf.name = accession\n",
    "\n",
    "halo_tree = prune_leaves_with_unknown_id(archaeal_tree, halo_genome_accessions)\n",
    "halo_tree_accessions = sorted([l.name for l in halo_tree.get_terminals()])\n",
    "\n",
    "thermo_tree = prune_leaves_with_unknown_id(archaeal_tree, thermo_genomes_accessions)\n",
    "thermo_tree_accessions = sorted([l.name for l in thermo_tree.get_terminals()])\n",
    "\n",
    "Phylo.write([halo_tree], data_folder / 'halo_nitro_tree' / 'Halobacteria.tree', 'phyloxml');\n",
    "Phylo.write([thermo_tree], data_folder / 'halo_nitro_tree' / 'Nitrososphaeria.tree', 'phyloxml');"
   ]
  },
  {
   "cell_type": "markdown",
   "metadata": {},
   "source": [
    "## Annotations"
   ]
  },
  {
   "cell_type": "code",
   "execution_count": 17,
   "metadata": {},
   "outputs": [],
   "source": [
    "annotations_data = [\n",
    "    ('halo', halo_genomes, halo_tree_accessions), \n",
    "    ('nitro', thermo_genomes, thermo_tree_accessions)\n",
    "]"
   ]
  },
  {
   "cell_type": "markdown",
   "metadata": {},
   "source": [
    "### Labels"
   ]
  },
  {
   "cell_type": "code",
   "execution_count": 18,
   "metadata": {},
   "outputs": [],
   "source": [
    "for prefix, df, accessions in annotations_data:\n",
    "    labels = []\n",
    "    for accession in accessions:\n",
    "        name = df.loc[accession, 'gtdb_species']\n",
    "        labels.append([accession, name])\n",
    "\n",
    "    itol_labels(labels, data_folder / 'halo_nitro_tree' / 'annotations' / f'{prefix}_labels.txt')"
   ]
  },
  {
   "cell_type": "markdown",
   "metadata": {},
   "source": [
    "### GTDB family colour strip"
   ]
  },
  {
   "cell_type": "code",
   "execution_count": 15,
   "metadata": {},
   "outputs": [],
   "source": [
    "families = (\n",
    "    sorted(gtdb_metadata[\n",
    "        gtdb_metadata['gtdb_class'] == 'Halobacteria'\n",
    "    ]['gtdb_family'].unique()) +\n",
    "    sorted(gtdb_metadata[\n",
    "        gtdb_metadata['gtdb_class'] == 'Nitrososphaeria'\n",
    "    ]['gtdb_family'].unique())\n",
    ")\n",
    "\n",
    "def is_named(s):\n",
    "    if re.match(r'^[A-Z0-9\\-_]+$', s) is not None:\n",
    "        return False\n",
    "    elif re.match(r'^.*[0-9]+.*$', s) is not None:\n",
    "        return False\n",
    "    else:\n",
    "        return True\n",
    "\n",
    "named_families = [f for f in families if is_named(f)]\n",
    "named_families\n",
    "\n",
    "family_to_colour = {f: palette_20[i] for i, f in enumerate(named_families)}\n",
    "unamed_colour = '#a9a9a9'"
   ]
  },
  {
   "cell_type": "code",
   "execution_count": 21,
   "metadata": {},
   "outputs": [],
   "source": [
    "for prefix, df, accessions in annotations_data:\n",
    "    family_data = []\n",
    "    for accession in accessions:\n",
    "        gtdb_family = df.loc[accession, 'gtdb_family']\n",
    "        colour = family_to_colour.get(gtdb_family, unamed_colour)\n",
    "        family_data.append([accession, colour, gtdb_family])\n",
    "\n",
    "    itol_color_strip_annotations(\n",
    "        data=family_data,\n",
    "        output_path=data_folder / 'halo_nitro_tree' / 'annotations' / f'{prefix}_family.txt',\n",
    "        dataset_label='GTDB family',\n",
    "        legend_title='GTDB family',\n",
    "        color_branches=True,\n",
    "    )"
   ]
  },
  {
   "cell_type": "markdown",
   "metadata": {},
   "source": [
    "### Flag homologs of hydrolase 2090"
   ]
  },
  {
   "cell_type": "code",
   "execution_count": 38,
   "metadata": {},
   "outputs": [],
   "source": [
    "homolog_accessions = set(db_proka_hits['assembly_accession'].unique())\n",
    "for prefix, _, accessions in annotations_data:\n",
    "    # Find maximum number of homolog in a single genome\n",
    "    max_n_homologs = db_proka_hits[\n",
    "        db_proka_hits['assembly_accession'].isin(accessions)\n",
    "    ][['assembly_accession', 'id']].groupby('assembly_accession').nunique().max()['id']\n",
    "\n",
    "    homologs_data = []\n",
    "    for accession in accessions:\n",
    "        if accession in homolog_accessions:\n",
    "            n = len(db_proka_hits[db_proka_hits['assembly_accession'] == accession])\n",
    "            label_list = ['1'] * n + ['-1'] * (max_n_homologs - n)\n",
    "        else:\n",
    "            label_list = ['-1'] * max_n_homologs\n",
    "\n",
    "        homologs_data.append([accession] + label_list)\n",
    "\n",
    "    itol_binary_annotations(\n",
    "        data=homologs_data,\n",
    "        output_path=data_folder / 'halo_nitro_tree' / 'annotations' / f'{prefix}_homologs.txt',\n",
    "        field_shapes=[1] * max_n_homologs,\n",
    "        field_labels=[f'{i+1} homolog{\"s\" if i > 0 else \"\"}' for i in range(max_n_homologs)],\n",
    "        dataset_label='2090 homologs',\n",
    "        field_colors=['#000075'] * max_n_homologs,\n",
    "        legend_title='Homolog of hydrolase 2090',\n",
    "    )"
   ]
  },
  {
   "cell_type": "code",
   "execution_count": null,
   "metadata": {},
   "outputs": [],
   "source": []
  }
 ],
 "metadata": {
  "kernelspec": {
   "display_name": "AvB",
   "language": "python",
   "name": "python3"
  },
  "language_info": {
   "codemirror_mode": {
    "name": "ipython",
    "version": 3
   },
   "file_extension": ".py",
   "mimetype": "text/x-python",
   "name": "python",
   "nbconvert_exporter": "python",
   "pygments_lexer": "ipython3",
   "version": "3.11.9"
  }
 },
 "nbformat": 4,
 "nbformat_minor": 2
}
