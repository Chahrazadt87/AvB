{
 "cells": [
  {
   "cell_type": "markdown",
   "metadata": {},
   "source": [
    "# Alpha/beta hydrolase protein 2090\n",
    "\n",
    "- Predicted to be an alpha/beta hydrolase.\n",
    "- Contains Pfam domain [DUF900 (PF05990)](https://www.ebi.ac.uk/interpro/entry/pfam/PF05990/) (positions 61-236)\n",
    "- From organism _Haloferax sp. s5a-1_, isolated from a saltern in Margherita di Savoia, Italy ([Atanasova et al., 2013](https://doi.org/10.1002/mbo3.115)). \n",
    "- Sequenced & assembled by Chahrazad Taissir.\n",
    "\n",
    "## Protein sequence\n",
    "\n",
    "```fasta\n",
    ">gnl|extdb|pgaptmp_002090_1 alpha/beta hydrolase [Haloferax sp. s5a-1] \n",
    "MASRRRFLKTTAATFAGLTVFGATSGAAASTPYISTRDHFDDDANLTSGHTARGYDTSGDVPVVDSGSTS\n",
    "EIFVFAHGWDKNSDNPEQDALEKIAKADTKLTEAGYDCEVVGYTWDSDKGDGWEFGWFEAQEIAQKNGRK\n",
    "LAQFALDVKRASPGTTVRFTSHSLGAQVIFSALRTLDSRSAWTDSGYTIETMHPFGAATDNEVPGKEEGR\n",
    "DTYEAIQESAGHVYNYYNAADDVLQWVYNTIEFDQALGETGLEGGDTPAGNYTDRDVESQVGDDHGNYLD\n",
    "TIADDIVGDI\n",
    "```\n",
    "\n",
    "## Homology search\n",
    "\n",
    "Similar proteins sequences are searched with software [`MMseqs2`](https://github.com/soedinglab/MMseqs2) in two databases: [GTDB](https://gtdb.ecogenomic.org/) & [UniProtKB](https://www.uniprot.org/help/uniprotkb).\n",
    "\n",
    "The search procedure works as follows:\n",
    "\n",
    "1. Search single protein sequence `pgaptmp_002090_1` (alias `2090`) in GTDB & UniProtKB.\n",
    "2. Map GTDB hits to UniprotKB.\n",
    "3. Map GTDB hits to our own internal DB, `db_proka`, a phylogenetically balanced subset of GTDB release 214 ([Strock et al., 2024](https://doi.org/10.1101/2024.09.18.613068)).\n",
    "4. Merge datasets into one.\n",
    "\n",
    "Steps 1, 2 & 3 are implemented in script [`src/homology_search/hydrolase_2090_search.sh`](src/homology_search/), running on Imperial's HPC.\n",
    "\n",
    "Step 4 is implemented in this notebook.\n",
    "\n"
   ]
  },
  {
   "cell_type": "code",
   "execution_count": 7,
   "metadata": {},
   "outputs": [],
   "source": [
    "import os\n",
    "from pathlib import Path\n",
    "import re\n",
    "\n",
    "import numpy as np\n",
    "import pandas as pd\n",
    "import matplotlib.pyplot as plt\n",
    "import seaborn as sns\n",
    "from Bio import SeqIO\n",
    "from Bio.SearchIO.HmmerIO.hmmer3_domtab import Hmmer3DomtabHmmqueryParser\n",
    "\n",
    "cwd = os.getcwd()\n",
    "if cwd.endswith('notebook'):\n",
    "    os.chdir('..')\n",
    "    cwd = os.getcwd()"
   ]
  },
  {
   "cell_type": "code",
   "execution_count": 2,
   "metadata": {},
   "outputs": [],
   "source": [
    "sns.set_palette('colorblind')\n",
    "sns.set_style('whitegrid')\n",
    "sns.set_context('paper', font_scale=1.8)\n",
    "plt.rcParams['font.family'] = 'Helvetica'\n",
    "\n",
    "palette = sns.color_palette().as_hex()\n",
    "\n",
    "\n",
    "data_folder = Path('./data')\n",
    "assert data_folder.is_dir()"
   ]
  },
  {
   "cell_type": "markdown",
   "metadata": {},
   "source": [
    "## Process homology search results\n",
    "\n",
    "### Parse GTDB hits"
   ]
  },
  {
   "cell_type": "code",
   "execution_count": 3,
   "metadata": {},
   "outputs": [
    {
     "data": {
      "text/html": [
       "<div>\n",
       "<style scoped>\n",
       "    .dataframe tbody tr th:only-of-type {\n",
       "        vertical-align: middle;\n",
       "    }\n",
       "\n",
       "    .dataframe tbody tr th {\n",
       "        vertical-align: top;\n",
       "    }\n",
       "\n",
       "    .dataframe thead th {\n",
       "        text-align: right;\n",
       "    }\n",
       "</style>\n",
       "<table border=\"1\" class=\"dataframe\">\n",
       "  <thead>\n",
       "    <tr style=\"text-align: right;\">\n",
       "      <th></th>\n",
       "      <th>query</th>\n",
       "      <th>target</th>\n",
       "      <th>evalue</th>\n",
       "      <th>bits</th>\n",
       "      <th>tstart</th>\n",
       "      <th>tend</th>\n",
       "      <th>taxlineage</th>\n",
       "      <th>domain</th>\n",
       "      <th>gtdb_phylum</th>\n",
       "      <th>gtdb_class</th>\n",
       "      <th>gtdb_order</th>\n",
       "      <th>gtdb_family</th>\n",
       "      <th>gtdb_genus</th>\n",
       "      <th>gtdb_species</th>\n",
       "    </tr>\n",
       "  </thead>\n",
       "  <tbody>\n",
       "    <tr>\n",
       "      <th>0</th>\n",
       "      <td>pgaptmp_002090_1</td>\n",
       "      <td>NZ_AOLI01000034.1_29</td>\n",
       "      <td>7.391000e-185</td>\n",
       "      <td>581</td>\n",
       "      <td>1</td>\n",
       "      <td>290</td>\n",
       "      <td>d_Archaea;p_Halobacteriota;c_Halobacteria;o_Ha...</td>\n",
       "      <td>Archaea</td>\n",
       "      <td>Halobacteriota</td>\n",
       "      <td>Halobacteria</td>\n",
       "      <td>Halobacteriales</td>\n",
       "      <td>Haloferacaceae</td>\n",
       "      <td>Haloferax</td>\n",
       "      <td>Haloferax larsenii</td>\n",
       "    </tr>\n",
       "    <tr>\n",
       "      <th>1</th>\n",
       "      <td>pgaptmp_002090_1</td>\n",
       "      <td>NZ_AOLK01000012.1_176</td>\n",
       "      <td>5.303000e-175</td>\n",
       "      <td>552</td>\n",
       "      <td>1</td>\n",
       "      <td>289</td>\n",
       "      <td>d_Archaea;p_Halobacteriota;c_Halobacteria;o_Ha...</td>\n",
       "      <td>Archaea</td>\n",
       "      <td>Halobacteriota</td>\n",
       "      <td>Halobacteria</td>\n",
       "      <td>Halobacteriales</td>\n",
       "      <td>Haloferacaceae</td>\n",
       "      <td>Haloferax</td>\n",
       "      <td>Haloferax elongans</td>\n",
       "    </tr>\n",
       "    <tr>\n",
       "      <th>2</th>\n",
       "      <td>pgaptmp_002090_1</td>\n",
       "      <td>NZ_AOLN01000018.1_554</td>\n",
       "      <td>2.454000e-141</td>\n",
       "      <td>455</td>\n",
       "      <td>1</td>\n",
       "      <td>290</td>\n",
       "      <td>d_Archaea;p_Halobacteriota;c_Halobacteria;o_Ha...</td>\n",
       "      <td>Archaea</td>\n",
       "      <td>Halobacteriota</td>\n",
       "      <td>Halobacteria</td>\n",
       "      <td>Halobacteriales</td>\n",
       "      <td>Haloferacaceae</td>\n",
       "      <td>Haloferax</td>\n",
       "      <td>Haloferax mucosum</td>\n",
       "    </tr>\n",
       "    <tr>\n",
       "      <th>3</th>\n",
       "      <td>pgaptmp_002090_1</td>\n",
       "      <td>NC_017941.2_785</td>\n",
       "      <td>3.791000e-139</td>\n",
       "      <td>449</td>\n",
       "      <td>1</td>\n",
       "      <td>290</td>\n",
       "      <td>d_Archaea;p_Halobacteriota;c_Halobacteria;o_Ha...</td>\n",
       "      <td>Archaea</td>\n",
       "      <td>Halobacteriota</td>\n",
       "      <td>Halobacteria</td>\n",
       "      <td>Halobacteriales</td>\n",
       "      <td>Haloferacaceae</td>\n",
       "      <td>Haloferax</td>\n",
       "      <td>Haloferax mediterranei</td>\n",
       "    </tr>\n",
       "    <tr>\n",
       "      <th>4</th>\n",
       "      <td>pgaptmp_002090_1</td>\n",
       "      <td>NZ_AOLJ01000011.1_106</td>\n",
       "      <td>5.312000e-136</td>\n",
       "      <td>440</td>\n",
       "      <td>1</td>\n",
       "      <td>290</td>\n",
       "      <td>d_Archaea;p_Halobacteriota;c_Halobacteria;o_Ha...</td>\n",
       "      <td>Archaea</td>\n",
       "      <td>Halobacteriota</td>\n",
       "      <td>Halobacteria</td>\n",
       "      <td>Halobacteriales</td>\n",
       "      <td>Haloferacaceae</td>\n",
       "      <td>Haloferax</td>\n",
       "      <td>Haloferax gibbonsii</td>\n",
       "    </tr>\n",
       "  </tbody>\n",
       "</table>\n",
       "</div>"
      ],
      "text/plain": [
       "              query                 target         evalue  bits  tstart  tend  \\\n",
       "0  pgaptmp_002090_1   NZ_AOLI01000034.1_29  7.391000e-185   581       1   290   \n",
       "1  pgaptmp_002090_1  NZ_AOLK01000012.1_176  5.303000e-175   552       1   289   \n",
       "2  pgaptmp_002090_1  NZ_AOLN01000018.1_554  2.454000e-141   455       1   290   \n",
       "3  pgaptmp_002090_1        NC_017941.2_785  3.791000e-139   449       1   290   \n",
       "4  pgaptmp_002090_1  NZ_AOLJ01000011.1_106  5.312000e-136   440       1   290   \n",
       "\n",
       "                                          taxlineage   domain     gtdb_phylum  \\\n",
       "0  d_Archaea;p_Halobacteriota;c_Halobacteria;o_Ha...  Archaea  Halobacteriota   \n",
       "1  d_Archaea;p_Halobacteriota;c_Halobacteria;o_Ha...  Archaea  Halobacteriota   \n",
       "2  d_Archaea;p_Halobacteriota;c_Halobacteria;o_Ha...  Archaea  Halobacteriota   \n",
       "3  d_Archaea;p_Halobacteriota;c_Halobacteria;o_Ha...  Archaea  Halobacteriota   \n",
       "4  d_Archaea;p_Halobacteriota;c_Halobacteria;o_Ha...  Archaea  Halobacteriota   \n",
       "\n",
       "     gtdb_class       gtdb_order     gtdb_family gtdb_genus  \\\n",
       "0  Halobacteria  Halobacteriales  Haloferacaceae  Haloferax   \n",
       "1  Halobacteria  Halobacteriales  Haloferacaceae  Haloferax   \n",
       "2  Halobacteria  Halobacteriales  Haloferacaceae  Haloferax   \n",
       "3  Halobacteria  Halobacteriales  Haloferacaceae  Haloferax   \n",
       "4  Halobacteria  Halobacteriales  Haloferacaceae  Haloferax   \n",
       "\n",
       "             gtdb_species  \n",
       "0      Haloferax larsenii  \n",
       "1      Haloferax elongans  \n",
       "2       Haloferax mucosum  \n",
       "3  Haloferax mediterranei  \n",
       "4     Haloferax gibbonsii  "
      ]
     },
     "execution_count": 3,
     "metadata": {},
     "output_type": "execute_result"
    }
   ],
   "source": [
    "gtdb_hits = pd.read_csv(data_folder / 'hydrolase_search' / 'gtdb.tsv', sep='\\t')\n",
    "gtdb_hits['domain'] = gtdb_hits['taxlineage'].apply(lambda t: t.split(';')[0].replace('d_', ''))\n",
    "gtdb_hits['gtdb_phylum'] = gtdb_hits['taxlineage'].apply(lambda t: t.split(';')[1].replace('p_', ''))\n",
    "gtdb_hits['gtdb_class'] = gtdb_hits['taxlineage'].apply(lambda t: t.split(';')[2].replace('c_', ''))\n",
    "gtdb_hits['gtdb_order'] = gtdb_hits['taxlineage'].apply(lambda t: t.split(';')[3].replace('o_', ''))\n",
    "gtdb_hits['gtdb_family'] = gtdb_hits['taxlineage'].apply(lambda t: t.split(';')[4].replace('f_', ''))\n",
    "gtdb_hits['gtdb_genus'] = gtdb_hits['taxlineage'].apply(lambda t: t.split(';')[5].replace('g_', ''))\n",
    "gtdb_hits['gtdb_species'] = gtdb_hits['taxlineage'].apply(lambda t: t.split(';')[6].replace('s_', ''))\n",
    "gtdb_hits.head()"
   ]
  },
  {
   "cell_type": "code",
   "execution_count": 4,
   "metadata": {},
   "outputs": [
    {
     "name": "stdout",
     "output_type": "stream",
     "text": [
      "Number of archaea: 309\n",
      "Number of bacteria: 19\n"
     ]
    }
   ],
   "source": [
    "n_archaea = len(gtdb_hits[gtdb_hits['domain'] == 'Archaea'])\n",
    "n_bacteria = len(gtdb_hits[gtdb_hits['domain'] == 'Bacteria'])\n",
    "\n",
    "print(f'Number of archaea: {n_archaea:,}')\n",
    "print(f'Number of bacteria: {n_bacteria:,}')"
   ]
  },
  {
   "cell_type": "markdown",
   "metadata": {},
   "source": [
    "Distribution of archaeal phyla:"
   ]
  },
  {
   "cell_type": "code",
   "execution_count": 5,
   "metadata": {},
   "outputs": [
    {
     "data": {
      "text/plain": [
       "gtdb_phylum\n",
       "Halobacteriota       160\n",
       "Thermoproteota       148\n",
       "Nanohaloarchaeota      1\n",
       "Name: count, dtype: int64"
      ]
     },
     "execution_count": 5,
     "metadata": {},
     "output_type": "execute_result"
    }
   ],
   "source": [
    "gtdb_hits[gtdb_hits['domain'] == 'Archaea']['gtdb_phylum'].value_counts()"
   ]
  },
  {
   "cell_type": "markdown",
   "metadata": {},
   "source": [
    "Distribution of bacterial phyla:"
   ]
  },
  {
   "cell_type": "code",
   "execution_count": 6,
   "metadata": {},
   "outputs": [
    {
     "data": {
      "text/plain": [
       "gtdb_phylum\n",
       "Chlamydiota          5\n",
       "4484-113             3\n",
       "Pseudomonadota       3\n",
       "Actinomycetota       3\n",
       "Verrucomicrobiota    2\n",
       "Bacteroidota         1\n",
       "Planctomycetota      1\n",
       "Gemmatimonadota      1\n",
       "Name: count, dtype: int64"
      ]
     },
     "execution_count": 6,
     "metadata": {},
     "output_type": "execute_result"
    }
   ],
   "source": [
    "gtdb_hits[gtdb_hits['domain'] == 'Bacteria']['gtdb_phylum'].value_counts()"
   ]
  },
  {
   "cell_type": "code",
   "execution_count": null,
   "metadata": {},
   "outputs": [],
   "source": []
  }
 ],
 "metadata": {
  "kernelspec": {
   "display_name": "AvB",
   "language": "python",
   "name": "python3"
  },
  "language_info": {
   "codemirror_mode": {
    "name": "ipython",
    "version": 3
   },
   "file_extension": ".py",
   "mimetype": "text/x-python",
   "name": "python",
   "nbconvert_exporter": "python",
   "pygments_lexer": "ipython3",
   "version": "3.11.9"
  }
 },
 "nbformat": 4,
 "nbformat_minor": 2
}
