{
 "cells": [
  {
   "cell_type": "markdown",
   "metadata": {},
   "source": [
    "## Lipid maps pulldown prep\n",
    "\n",
    "\"LIPID Metabolites And Pathways Strategy (LIPID MAPS) is a multi-institutional supported website and database that provides access to a large number of globally used lipidomics resources.\" ([\"About us\" page](https://www.lipidmaps.org/about/information))\n",
    "\n",
    "The [LIPID MAPS Structure Database (LMSD)](https://www.lipidmaps.org/databases/lmsd/download) provides chemical formula in SMILES format of over 50,000 lipids.\n",
    "\n",
    "A/B hydrolase protein 2090 may act on lipids. What if we were to use AlphaFold 3 to give us a clue as to which type of lipids this enzyme may be acting on?"
   ]
  },
  {
   "cell_type": "code",
   "execution_count": 1,
   "metadata": {},
   "outputs": [],
   "source": [
    "import os\n",
    "from pathlib import Path\n",
    "\n",
    "import numpy as np\n",
    "import pandas as pd\n",
    "import matplotlib.pyplot as plt\n",
    "import seaborn as sns\n",
    "from rdkit import Chem\n",
    "from rdkit.Chem import Descriptors\n",
    "from scipy.stats import entropy\n",
    "\n",
    "cwd = os.getcwd()\n",
    "if cwd.endswith('notebook'):\n",
    "    os.chdir('..')\n",
    "    cwd = os.getcwd()"
   ]
  },
  {
   "cell_type": "code",
   "execution_count": 2,
   "metadata": {},
   "outputs": [],
   "source": [
    "sns.set_palette('colorblind')\n",
    "sns.set_style('whitegrid')\n",
    "sns.set_context('paper', font_scale=1.8)\n",
    "plt.rcParams['font.family'] = 'Helvetica'\n",
    "\n",
    "palette = sns.color_palette().as_hex()\n",
    "\n",
    "base_folder = Path(os.path.expanduser('~')) / 'Documents' / 'Chahrazad'\n",
    "assert base_folder.is_dir()"
   ]
  },
  {
   "cell_type": "markdown",
   "metadata": {},
   "source": [
    "## Load Lipid Maps Structure Database (LMSD)"
   ]
  },
  {
   "cell_type": "code",
   "execution_count": 3,
   "metadata": {},
   "outputs": [],
   "source": [
    "lmsd_path = (base_folder / 'lipid_maps' / 'lipids.sdf').resolve().as_posix()\n",
    "lipids = Chem.SDMolSupplier(lmsd_path)"
   ]
  },
  {
   "cell_type": "code",
   "execution_count": 4,
   "metadata": {},
   "outputs": [
    {
     "name": "stdout",
     "output_type": "stream",
     "text": [
      "Available attributes:\n"
     ]
    },
    {
     "data": {
      "text/plain": [
       "['LM_ID',\n",
       " 'NAME',\n",
       " 'SYSTEMATIC_NAME',\n",
       " 'CATEGORY',\n",
       " 'MAIN_CLASS',\n",
       " 'EXACT_MASS',\n",
       " 'FORMULA',\n",
       " 'INCHI_KEY',\n",
       " 'INCHI',\n",
       " 'SMILES',\n",
       " 'ABBREVIATION',\n",
       " 'SYNONYMS',\n",
       " 'PUBCHEM_CID',\n",
       " 'CHEBI_ID']"
      ]
     },
     "execution_count": 4,
     "metadata": {},
     "output_type": "execute_result"
    }
   ],
   "source": [
    "for lipid in lipids:\n",
    "    break\n",
    "\n",
    "print('Available attributes:')\n",
    "attributes = list(lipid.GetPropNames())\n",
    "attributes"
   ]
  },
  {
   "cell_type": "code",
   "execution_count": 5,
   "metadata": {},
   "outputs": [
    {
     "name": "stdout",
     "output_type": "stream",
     "text": [
      "LM_ID: LMFA00000001\n",
      "NAME: 2-methoxy-12-methyloctadec-17-en-5-ynoyl anhydride\n",
      "SYSTEMATIC_NAME: 2-methoxy-12-methyloctadec-17-en-5-ynoyl anhydride\n",
      "CATEGORY: Fatty Acyls [FA]\n",
      "MAIN_CLASS: Other Fatty Acyls [FA00]\n",
      "EXACT_MASS: 626.491025\n",
      "FORMULA: C40H66O5\n",
      "INCHI_KEY: VOGBKCAANIAXCI-UHFFFAOYSA-N\n",
      "INCHI: InChI=1S/C40H66O5/c1-7-9-11-23-29-35(3)31-25-19-15-13-17-21-27-33-37(43-5)39(41)45-40(42)38(44-6)34-28-22-18-14-16-20-26-32-36(4)30-24-12-10-8-2/h7-8,35-38H,1-2,9-16,19-20,23-34H2,3-6H3\n",
      "SMILES: C(C(OC)CCC#CCCCCCC(C)CCCCC=C)(=O)OC(C(OC)CCC#CCCCCCC(C)CCCCC=C)=O\n",
      "ABBREVIATION: FA 40:7;O3\n",
      "SYNONYMS: Acetylenic acids\n",
      "PUBCHEM_CID: 10930192\n",
      "CHEBI_ID: 178363\n"
     ]
    }
   ],
   "source": [
    "for attribute in lipid.GetPropNames():\n",
    "    print(f'{attribute}:', lipid.GetProp(attribute))"
   ]
  },
  {
   "cell_type": "code",
   "execution_count": 6,
   "metadata": {},
   "outputs": [
    {
     "name": "stderr",
     "output_type": "stream",
     "text": [
      "[11:41:37] Warning: ambiguous stereochemistry - zero final chiral volume - at atom 5 ignored\n",
      "[11:41:37] Warning: ambiguous stereochemistry - zero final chiral volume - at atom 5 ignored\n",
      "[11:41:37] Warning: ambiguous stereochemistry - zero final chiral volume - at atom 5 ignored\n",
      "[11:41:37] Warning: ambiguous stereochemistry - zero final chiral volume - at atom 5 ignored\n",
      "[11:41:37] Warning: ambiguous stereochemistry - zero final chiral volume - at atom 5 ignored\n",
      "[11:41:37] Warning: ambiguous stereochemistry - opposing bonds have opposite wedging - at atom 7 ignored.\n",
      "[11:41:37] Warning: ambiguous stereochemistry - opposing bonds have opposite wedging - at atom 7 ignored.\n",
      "[11:41:37] Warning: ambiguous stereochemistry - opposing bonds have opposite wedging - at atom 7 ignored.\n",
      "[11:41:37] Warning: ambiguous stereochemistry - opposing bonds have opposite wedging - at atom 7 ignored.\n",
      "[11:41:37] Warning: ambiguous stereochemistry - opposing bonds have opposite wedging - at atom 3 ignored.\n",
      "[11:41:37] Warning: ambiguous stereochemistry - opposing bonds have opposite wedging - at atom 3 ignored.\n",
      "[11:41:37] Warning: conflicting stereochemistry - bond wedging contradiction - at atom 49 ignored\n",
      "[11:41:37] Warning: conflicting stereochemistry - bond wedging contradiction - at atom 52 ignored\n",
      "[11:41:37] Warning: conflicting stereochemistry - bond wedging contradiction - at atom 49 ignored\n",
      "[11:41:37] Warning: conflicting stereochemistry - bond wedging contradiction - at atom 52 ignored\n",
      "[11:41:37] Warning: conflicting stereochemistry - bond wedging contradiction - at atom 77 ignored\n",
      "[11:41:37] Warning: conflicting stereochemistry - bond wedging contradiction - at atom 77 ignored\n",
      "[11:41:37] Warning: conflicting stereochemistry - bond wedging contradiction - at atom 81 ignored\n",
      "[11:41:37] Warning: conflicting stereochemistry - bond wedging contradiction - at atom 81 ignored\n",
      "[11:41:38] Warning: ambiguous stereochemistry - opposing bonds have opposite wedging - at atom 4 ignored.\n",
      "[11:41:38] Warning: ambiguous stereochemistry - opposing bonds have opposite wedging - at atom 4 ignored.\n",
      "[11:41:38] Warning: ambiguous stereochemistry - opposing bonds have opposite wedging - at atom 34 ignored.\n",
      "[11:41:38] Warning: ambiguous stereochemistry - opposing bonds have opposite wedging - at atom 34 ignored.\n",
      "[11:41:38] Warning: ambiguous stereochemistry - opposing bonds have opposite wedging - at atom 4 ignored.\n",
      "[11:41:38] Warning: ambiguous stereochemistry - opposing bonds have opposite wedging - at atom 4 ignored.\n",
      "[11:41:38] Warning: ambiguous stereochemistry - opposing bonds have opposite wedging - at atom 4 ignored.\n",
      "[11:41:38] Warning: ambiguous stereochemistry - opposing bonds have opposite wedging - at atom 4 ignored.\n"
     ]
    },
    {
     "name": "stdout",
     "output_type": "stream",
     "text": [
      "Number of lipids in LMSD: 48,233\n"
     ]
    },
    {
     "name": "stderr",
     "output_type": "stream",
     "text": [
      "[11:41:40] Warning: conflicting stereochemistry - bond wedging contradiction - at atom 56 ignored\n",
      "[11:41:40] Warning: conflicting stereochemistry - bond wedging contradiction - at atom 56 ignored\n"
     ]
    }
   ],
   "source": [
    "mass_list = []\n",
    "molecules = []\n",
    "for lipid in lipids:\n",
    "    if lipid and 'SMILES' in lipid.GetPropNames():\n",
    "        lm_id = lipid.GetProp('LM_ID')\n",
    "        mass = float(lipid.GetProp('EXACT_MASS'))\n",
    "\n",
    "        assert not pd.isnull(mass) and mass > 0\n",
    "\n",
    "        mass_list.append((lm_id, mass))\n",
    "        molecules.append(lipid)\n",
    "\n",
    "print(f'Number of lipids in LMSD: {len(mass_list):,}')"
   ]
  },
  {
   "cell_type": "markdown",
   "metadata": {},
   "source": [
    "### Export as csv"
   ]
  },
  {
   "cell_type": "code",
   "execution_count": 7,
   "metadata": {},
   "outputs": [],
   "source": [
    "def export_lipids_as_table(molecules):\n",
    "    columns = [\n",
    "        'LM_ID',\n",
    "        'NAME',\n",
    "        'CATEGORY',\n",
    "        'MAIN_CLASS',\n",
    "        'SUB_CLASS',\n",
    "        'EXACT_MASS',\n",
    "        'FORMULA',\n",
    "        'SMILES',\n",
    "        'PUBCHEM_CID',\n",
    "    ]\n",
    "    data = {c: [] for c in columns}\n",
    "    for molecule in molecules:\n",
    "        available_attributes = set(molecule.GetPropNames())\n",
    "        for attr in columns:\n",
    "            if attr in available_attributes:\n",
    "                val = molecule.GetProp(attr)\n",
    "            else:\n",
    "                val = None\n",
    "\n",
    "            data[attr].append(val)\n",
    "\n",
    "    return pd.DataFrame.from_dict(data).set_index('LM_ID', drop=True)"
   ]
  },
  {
   "cell_type": "code",
   "execution_count": 8,
   "metadata": {},
   "outputs": [
    {
     "data": {
      "text/html": [
       "<div>\n",
       "<style scoped>\n",
       "    .dataframe tbody tr th:only-of-type {\n",
       "        vertical-align: middle;\n",
       "    }\n",
       "\n",
       "    .dataframe tbody tr th {\n",
       "        vertical-align: top;\n",
       "    }\n",
       "\n",
       "    .dataframe thead th {\n",
       "        text-align: right;\n",
       "    }\n",
       "</style>\n",
       "<table border=\"1\" class=\"dataframe\">\n",
       "  <thead>\n",
       "    <tr style=\"text-align: right;\">\n",
       "      <th></th>\n",
       "      <th>NAME</th>\n",
       "      <th>CATEGORY</th>\n",
       "      <th>MAIN_CLASS</th>\n",
       "      <th>SUB_CLASS</th>\n",
       "      <th>EXACT_MASS</th>\n",
       "      <th>FORMULA</th>\n",
       "      <th>SMILES</th>\n",
       "      <th>PUBCHEM_CID</th>\n",
       "    </tr>\n",
       "    <tr>\n",
       "      <th>LM_ID</th>\n",
       "      <th></th>\n",
       "      <th></th>\n",
       "      <th></th>\n",
       "      <th></th>\n",
       "      <th></th>\n",
       "      <th></th>\n",
       "      <th></th>\n",
       "      <th></th>\n",
       "    </tr>\n",
       "  </thead>\n",
       "  <tbody>\n",
       "    <tr>\n",
       "      <th>LMFA00000001</th>\n",
       "      <td>2-methoxy-12-methyloctadec-17-en-5-ynoyl anhyd...</td>\n",
       "      <td>Fatty Acyls [FA]</td>\n",
       "      <td>Other Fatty Acyls [FA00]</td>\n",
       "      <td>None</td>\n",
       "      <td>626.491025</td>\n",
       "      <td>C40H66O5</td>\n",
       "      <td>C(C(OC)CCC#CCCCCCC(C)CCCCC=C)(=O)OC(C(OC)CCC#C...</td>\n",
       "      <td>10930192</td>\n",
       "    </tr>\n",
       "    <tr>\n",
       "      <th>LMFA00000002</th>\n",
       "      <td>Serratamic acid</td>\n",
       "      <td>Fatty Acyls [FA]</td>\n",
       "      <td>Other Fatty Acyls [FA00]</td>\n",
       "      <td>None</td>\n",
       "      <td>275.173274</td>\n",
       "      <td>C13H25NO5</td>\n",
       "      <td>C(O)[C@](C(=O)O)([H])NC(C[C@@H](O)CCCCCCC)=O</td>\n",
       "      <td>42607281</td>\n",
       "    </tr>\n",
       "    <tr>\n",
       "      <th>LMFA00000003</th>\n",
       "      <td>N-(3-(hexadecanoyloxy)-heptadecanoyl)-L-ornithine</td>\n",
       "      <td>Fatty Acyls [FA]</td>\n",
       "      <td>Other Fatty Acyls [FA00]</td>\n",
       "      <td>None</td>\n",
       "      <td>638.559773</td>\n",
       "      <td>C38H74N2O5</td>\n",
       "      <td>C(CCN)[C@](C(=O)O)([H])NC(CC(OC(CCCCCCCCCCCCCC...</td>\n",
       "      <td>42607282</td>\n",
       "    </tr>\n",
       "    <tr>\n",
       "      <th>LMFA00000005</th>\n",
       "      <td>N-(3-(15-methyl-hexadecanoyloxy)-13-methyl-tet...</td>\n",
       "      <td>Fatty Acyls [FA]</td>\n",
       "      <td>Other Fatty Acyls [FA00]</td>\n",
       "      <td>None</td>\n",
       "      <td>625.528139</td>\n",
       "      <td>C37H71NO6</td>\n",
       "      <td>CC(C)CCCCCCCCCCCC(OC(=O)CCCCCCCCCCCCCC(C)C)CC(...</td>\n",
       "      <td>42607283</td>\n",
       "    </tr>\n",
       "    <tr>\n",
       "      <th>LMFA00000006</th>\n",
       "      <td>Lysine-containing siolipin</td>\n",
       "      <td>Fatty Acyls [FA]</td>\n",
       "      <td>Other Fatty Acyls [FA00]</td>\n",
       "      <td>None</td>\n",
       "      <td>684.565253</td>\n",
       "      <td>C39H76N2O7</td>\n",
       "      <td>N([C@@]([H])(CCCCN)C(=O)OCCOC(=O)C(O)CCCCCCCCC...</td>\n",
       "      <td>42607284</td>\n",
       "    </tr>\n",
       "  </tbody>\n",
       "</table>\n",
       "</div>"
      ],
      "text/plain": [
       "                                                           NAME  \\\n",
       "LM_ID                                                             \n",
       "LMFA00000001  2-methoxy-12-methyloctadec-17-en-5-ynoyl anhyd...   \n",
       "LMFA00000002                                    Serratamic acid   \n",
       "LMFA00000003  N-(3-(hexadecanoyloxy)-heptadecanoyl)-L-ornithine   \n",
       "LMFA00000005  N-(3-(15-methyl-hexadecanoyloxy)-13-methyl-tet...   \n",
       "LMFA00000006                         Lysine-containing siolipin   \n",
       "\n",
       "                      CATEGORY                MAIN_CLASS SUB_CLASS  \\\n",
       "LM_ID                                                                \n",
       "LMFA00000001  Fatty Acyls [FA]  Other Fatty Acyls [FA00]      None   \n",
       "LMFA00000002  Fatty Acyls [FA]  Other Fatty Acyls [FA00]      None   \n",
       "LMFA00000003  Fatty Acyls [FA]  Other Fatty Acyls [FA00]      None   \n",
       "LMFA00000005  Fatty Acyls [FA]  Other Fatty Acyls [FA00]      None   \n",
       "LMFA00000006  Fatty Acyls [FA]  Other Fatty Acyls [FA00]      None   \n",
       "\n",
       "              EXACT_MASS     FORMULA  \\\n",
       "LM_ID                                  \n",
       "LMFA00000001  626.491025    C40H66O5   \n",
       "LMFA00000002  275.173274   C13H25NO5   \n",
       "LMFA00000003  638.559773  C38H74N2O5   \n",
       "LMFA00000005  625.528139   C37H71NO6   \n",
       "LMFA00000006  684.565253  C39H76N2O7   \n",
       "\n",
       "                                                         SMILES PUBCHEM_CID  \n",
       "LM_ID                                                                        \n",
       "LMFA00000001  C(C(OC)CCC#CCCCCCC(C)CCCCC=C)(=O)OC(C(OC)CCC#C...    10930192  \n",
       "LMFA00000002       C(O)[C@](C(=O)O)([H])NC(C[C@@H](O)CCCCCCC)=O    42607281  \n",
       "LMFA00000003  C(CCN)[C@](C(=O)O)([H])NC(CC(OC(CCCCCCCCCCCCCC...    42607282  \n",
       "LMFA00000005  CC(C)CCCCCCCCCCCC(OC(=O)CCCCCCCCCCCCCC(C)C)CC(...    42607283  \n",
       "LMFA00000006  N([C@@]([H])(CCCCN)C(=O)OCCOC(=O)C(O)CCCCCCCCC...    42607284  "
      ]
     },
     "execution_count": 8,
     "metadata": {},
     "output_type": "execute_result"
    }
   ],
   "source": [
    "lipids_df = export_lipids_as_table(molecules)\n",
    "lipids_df.head()"
   ]
  },
  {
   "cell_type": "code",
   "execution_count": 9,
   "metadata": {},
   "outputs": [],
   "source": [
    "lipids_df.to_csv(base_folder / 'lipid_maps' / 'lipids.csv')"
   ]
  },
  {
   "cell_type": "markdown",
   "metadata": {},
   "source": [
    "## Sample 100 lipids\n",
    "\n",
    "We'll start by running AF3 on a subset of 100 lipids. This should help estimate runtime on the full 50k DB.\n",
    "\n",
    "We want the distribution of molecular weights in the sample to be as close as possible to the full distribution. We'll generate 100 independent samples, compute the KL divergence vs the entire distribution and keep the sample with the smallest KL divergence."
   ]
  },
  {
   "cell_type": "code",
   "execution_count": 10,
   "metadata": {},
   "outputs": [
    {
     "name": "stdout",
     "output_type": "stream",
     "text": [
      "Best KL divergence  : 0.4250911413508963\n",
      "Worst KL divergence : inf\n"
     ]
    }
   ],
   "source": [
    "n_samples = 100\n",
    "n_generations = 100\n",
    "n_bins = 20\n",
    "seed = 123\n",
    "rng = np.random.default_rng(seed)\n",
    "\n",
    "all_masses = np.array([m for _, m in mass_list], dtype=np.float32)\n",
    "bin_counts, _ = np.histogram(all_masses, bins=n_bins, density=False)\n",
    "full_distribution = bin_counts / np.sum(bin_counts)\n",
    "\n",
    "samples = []\n",
    "for _ in range(n_generations):\n",
    "    s = rng.choice(mass_list, size=n_samples, replace=False)\n",
    "    sample_masses = np.array([m for _, m in s], dtype=np.float32)\n",
    "    s_bin_counts, _ = np.histogram(sample_masses, bins=n_bins, density=False)\n",
    "    sample_distribution = s_bin_counts / np.sum(s_bin_counts)\n",
    "\n",
    "    kl_divergence = entropy(full_distribution, sample_distribution)\n",
    "\n",
    "    samples.append((s, kl_divergence))\n",
    "\n",
    "sample_tuples = sorted(samples, key=lambda t: t[1])\n",
    "print(f'Best KL divergence  : {sample_tuples[0][1]}')\n",
    "print(f'Worst KL divergence : {sample_tuples[-1][1]}')\n",
    "\n",
    "sample = sample_tuples[0][0]"
   ]
  },
  {
   "cell_type": "code",
   "execution_count": 11,
   "metadata": {},
   "outputs": [
    {
     "data": {
      "image/png": "[encoded data removed]",
      "text/plain": [
       "<Figure size 1200x500 with 2 Axes>"
      ]
     },
     "metadata": {},
     "output_type": "display_data"
    }
   ],
   "source": [
    "f, axes = plt.subplots(1, 2, figsize=(12, 5))\n",
    "ax1, ax2 = axes.flatten()\n",
    "\n",
    "sample_masses = np.array([m for _, m in sample], dtype=np.float32)\n",
    "\n",
    "for ax, data in [(ax1, all_masses), (ax2, sample_masses)]:\n",
    "    bin_counts, bin_edges = np.histogram(data, bins=n_bins, density=False)\n",
    "    bin_probabilities = bin_counts / np.sum(bin_counts)\n",
    "    bin_centers = (bin_edges[:-1] + bin_edges[1:]) / 2\n",
    "    ax.bar(bin_centers, bin_probabilities, width=np.diff(bin_edges), edgecolor='black', align='center')\n",
    "\n",
    "ax1.set_xlim(ax2.get_xlim());\n",
    "\n",
    "ax1.set_title('Full distribution');\n",
    "ax2.set_title('Sample distribution');\n",
    "\n",
    "ax1.set_xlabel('Mass');\n",
    "ax2.set_xlabel('Mass');"
   ]
  },
  {
   "cell_type": "markdown",
   "metadata": {},
   "source": [
    "### Export subset"
   ]
  },
  {
   "cell_type": "code",
   "execution_count": 12,
   "metadata": {},
   "outputs": [
    {
     "data": {
      "text/html": [
       "<div>\n",
       "<style scoped>\n",
       "    .dataframe tbody tr th:only-of-type {\n",
       "        vertical-align: middle;\n",
       "    }\n",
       "\n",
       "    .dataframe tbody tr th {\n",
       "        vertical-align: top;\n",
       "    }\n",
       "\n",
       "    .dataframe thead th {\n",
       "        text-align: right;\n",
       "    }\n",
       "</style>\n",
       "<table border=\"1\" class=\"dataframe\">\n",
       "  <thead>\n",
       "    <tr style=\"text-align: right;\">\n",
       "      <th></th>\n",
       "      <th>NAME</th>\n",
       "      <th>CATEGORY</th>\n",
       "      <th>MAIN_CLASS</th>\n",
       "      <th>SUB_CLASS</th>\n",
       "      <th>EXACT_MASS</th>\n",
       "      <th>FORMULA</th>\n",
       "      <th>SMILES</th>\n",
       "      <th>PUBCHEM_CID</th>\n",
       "    </tr>\n",
       "    <tr>\n",
       "      <th>LM_ID</th>\n",
       "      <th></th>\n",
       "      <th></th>\n",
       "      <th></th>\n",
       "      <th></th>\n",
       "      <th></th>\n",
       "      <th></th>\n",
       "      <th></th>\n",
       "      <th></th>\n",
       "    </tr>\n",
       "  </thead>\n",
       "  <tbody>\n",
       "    <tr>\n",
       "      <th>LMFA01020032</th>\n",
       "      <td>(+)-C27-Phthienoic acid</td>\n",
       "      <td>Fatty Acyls [FA]</td>\n",
       "      <td>Fatty Acids and Conjugates [FA01]</td>\n",
       "      <td>Branched fatty acids [FA0102]</td>\n",
       "      <td>408.396730</td>\n",
       "      <td>C27H52O2</td>\n",
       "      <td>C(CCCCCCCC(C)CC(C)/C=C(\\C)/C(=O)O)CCCCCCCCCC</td>\n",
       "      <td>5282613</td>\n",
       "    </tr>\n",
       "    <tr>\n",
       "      <th>LMFA01030109</th>\n",
       "      <td>9,12-hexadecadienoic acid</td>\n",
       "      <td>Fatty Acyls [FA]</td>\n",
       "      <td>Fatty Acids and Conjugates [FA01]</td>\n",
       "      <td>Unsaturated fatty acids [FA0103]</td>\n",
       "      <td>252.208930</td>\n",
       "      <td>C16H28O2</td>\n",
       "      <td>C(/C/C=C/CCC)=C\\CCCCCCCC(=O)O</td>\n",
       "      <td>5282787</td>\n",
       "    </tr>\n",
       "    <tr>\n",
       "      <th>LMFA01030372</th>\n",
       "      <td>8Z-eicosenoic acid</td>\n",
       "      <td>Fatty Acyls [FA]</td>\n",
       "      <td>Fatty Acids and Conjugates [FA01]</td>\n",
       "      <td>Unsaturated fatty acids [FA0103]</td>\n",
       "      <td>310.287180</td>\n",
       "      <td>C20H38O2</td>\n",
       "      <td>C(CCCCCC/C=C\\CCCCCCCCCCC)(=O)O</td>\n",
       "      <td>5312523</td>\n",
       "    </tr>\n",
       "    <tr>\n",
       "      <th>LMFA01050220</th>\n",
       "      <td>28-hydroxy-octacosanoic acid</td>\n",
       "      <td>Fatty Acyls [FA]</td>\n",
       "      <td>Fatty Acids and Conjugates [FA01]</td>\n",
       "      <td>Hydroxy fatty acids [FA0105]</td>\n",
       "      <td>440.422945</td>\n",
       "      <td>C28H56O3</td>\n",
       "      <td>C(CCCCCCCCCCCCCCCCCCCCCCCCCCCO)(=O)O</td>\n",
       "      <td>5312786</td>\n",
       "    </tr>\n",
       "    <tr>\n",
       "      <th>LMFA01050225</th>\n",
       "      <td>6-hydroxy-heptanoic acid</td>\n",
       "      <td>Fatty Acyls [FA]</td>\n",
       "      <td>Fatty Acids and Conjugates [FA01]</td>\n",
       "      <td>Hydroxy fatty acids [FA0105]</td>\n",
       "      <td>146.094295</td>\n",
       "      <td>C7H14O3</td>\n",
       "      <td>C(CCCCC(O)C)(=O)O</td>\n",
       "      <td>5312788</td>\n",
       "    </tr>\n",
       "  </tbody>\n",
       "</table>\n",
       "</div>"
      ],
      "text/plain": [
       "                                      NAME          CATEGORY  \\\n",
       "LM_ID                                                          \n",
       "LMFA01020032       (+)-C27-Phthienoic acid  Fatty Acyls [FA]   \n",
       "LMFA01030109     9,12-hexadecadienoic acid  Fatty Acyls [FA]   \n",
       "LMFA01030372            8Z-eicosenoic acid  Fatty Acyls [FA]   \n",
       "LMFA01050220  28-hydroxy-octacosanoic acid  Fatty Acyls [FA]   \n",
       "LMFA01050225      6-hydroxy-heptanoic acid  Fatty Acyls [FA]   \n",
       "\n",
       "                                     MAIN_CLASS  \\\n",
       "LM_ID                                             \n",
       "LMFA01020032  Fatty Acids and Conjugates [FA01]   \n",
       "LMFA01030109  Fatty Acids and Conjugates [FA01]   \n",
       "LMFA01030372  Fatty Acids and Conjugates [FA01]   \n",
       "LMFA01050220  Fatty Acids and Conjugates [FA01]   \n",
       "LMFA01050225  Fatty Acids and Conjugates [FA01]   \n",
       "\n",
       "                                     SUB_CLASS  EXACT_MASS   FORMULA  \\\n",
       "LM_ID                                                                  \n",
       "LMFA01020032     Branched fatty acids [FA0102]  408.396730  C27H52O2   \n",
       "LMFA01030109  Unsaturated fatty acids [FA0103]  252.208930  C16H28O2   \n",
       "LMFA01030372  Unsaturated fatty acids [FA0103]  310.287180  C20H38O2   \n",
       "LMFA01050220      Hydroxy fatty acids [FA0105]  440.422945  C28H56O3   \n",
       "LMFA01050225      Hydroxy fatty acids [FA0105]  146.094295   C7H14O3   \n",
       "\n",
       "                                                    SMILES PUBCHEM_CID  \n",
       "LM_ID                                                                   \n",
       "LMFA01020032  C(CCCCCCCC(C)CC(C)/C=C(\\C)/C(=O)O)CCCCCCCCCC     5282613  \n",
       "LMFA01030109                 C(/C/C=C/CCC)=C\\CCCCCCCC(=O)O     5282787  \n",
       "LMFA01030372                C(CCCCCC/C=C\\CCCCCCCCCCC)(=O)O     5312523  \n",
       "LMFA01050220          C(CCCCCCCCCCCCCCCCCCCCCCCCCCCO)(=O)O     5312786  \n",
       "LMFA01050225                             C(CCCCC(O)C)(=O)O     5312788  "
      ]
     },
     "execution_count": 12,
     "metadata": {},
     "output_type": "execute_result"
    }
   ],
   "source": [
    "sample_ids = {lm_id for lm_id, _ in sample}\n",
    "samples_df = lipids_df.loc[sorted(sample_ids)]\n",
    "samples_df.head()"
   ]
  },
  {
   "cell_type": "code",
   "execution_count": 13,
   "metadata": {},
   "outputs": [],
   "source": [
    "samples_df.to_csv(base_folder / 'lipid_maps' / 'lipids_sample.csv')"
   ]
  },
  {
   "cell_type": "code",
   "execution_count": null,
   "metadata": {},
   "outputs": [],
   "source": []
  }
 ],
 "metadata": {
  "kernelspec": {
   "display_name": "AvB",
   "language": "python",
   "name": "python3"
  },
  "language_info": {
   "codemirror_mode": {
    "name": "ipython",
    "version": 3
   },
   "file_extension": ".py",
   "mimetype": "text/x-python",
   "name": "python",
   "nbconvert_exporter": "python",
   "pygments_lexer": "ipython3",
   "version": "3.11.9"
  }
 },
 "nbformat": 4,
 "nbformat_minor": 2
}
