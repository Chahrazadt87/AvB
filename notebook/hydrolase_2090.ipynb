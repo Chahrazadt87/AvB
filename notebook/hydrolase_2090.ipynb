{
 "cells": [
  {
   "cell_type": "markdown",
   "metadata": {},
   "source": [
    "# Alpha/beta hydrolase protein 2090\n",
    "\n",
    "- Predicted to be an alpha/beta hydrolase.\n",
    "- Contains Pfam domain [DUF900 (PF05990)](https://www.ebi.ac.uk/interpro/entry/pfam/PF05990/) (positions 61-236)\n",
    "- From organism _Haloferax sp. s5a-1_, isolated from a saltern in Margherita di Savoia, Italy ([Atanasova et al, 2013](https://doi.org/10.1002/mbo3.115)). \n",
    "- Sequenced & assembled by Chahrazad Taissir.\n",
    "\n",
    "## Protein sequence\n",
    "\n",
    "```fasta\n",
    ">gnl|extdb|pgaptmp_002090_1 alpha/beta hydrolase [Haloferax sp. s5a-1] \n",
    "MASRRRFLKTTAATFAGLTVFGATSGAAASTPYISTRDHFDDDANLTSGHTARGYDTSGDVPVVDSGSTS\n",
    "EIFVFAHGWDKNSDNPEQDALEKIAKADTKLTEAGYDCEVVGYTWDSDKGDGWEFGWFEAQEIAQKNGRK\n",
    "LAQFALDVKRASPGTTVRFTSHSLGAQVIFSALRTLDSRSAWTDSGYTIETMHPFGAATDNEVPGKEEGR\n",
    "DTYEAIQESAGHVYNYYNAADDVLQWVYNTIEFDQALGETGLEGGDTPAGNYTDRDVESQVGDDHGNYLD\n",
    "TIADDIVGDI\n",
    "```\n",
    "\n",
    "## Homology search\n",
    "\n",
    "Similar proteins sequences are searched with software [`MMseqs2`](https://github.com/soedinglab/MMseqs2) in two databases: [GTDB](https://gtdb.ecogenomic.org/) & [UniProtKB](https://www.uniprot.org/help/uniprotkb).\n",
    "\n",
    "The search procedure is iterative:\n",
    "\n",
    "1. First pass:\n",
    "   - Search single protein sequence `pgaptmp_002090` in GTDB & UniProtKB.\n",
    "   - Map results from GTDB to UniprotKB and vice versa.\n",
    "   - Keep unique proteins only.\n",
    "\n",
    "2. Second pass: same procedure but using output of first pass as input.\n",
    "\n",
    "3. Hits are mapped to our own internal DB, `DB_Proka`, a phylogenetically balanced subset of GTDB release 214 ([Strock et al, 2014](https://doi.org/10.1101/2024.09.18.613068))"
   ]
  },
  {
   "cell_type": "code",
   "execution_count": 1,
   "metadata": {},
   "outputs": [],
   "source": [
    "import os\n",
    "from pathlib import Path\n",
    "import re\n",
    "\n",
    "import numpy as np\n",
    "import pandas as pd\n",
    "import matplotlib.pyplot as plt\n",
    "import seaborn as sns\n",
    "from Bio import SeqIO\n",
    "from Bio.SearchIO.HmmerIO.hmmer3_domtab import Hmmer3DomtabHmmqueryParser\n",
    "\n",
    "cwd = os.getcwd()\n",
    "if cwd.endswith('notebook'):\n",
    "    os.chdir('..')\n",
    "    cwd = os.getcwd()"
   ]
  },
  {
   "cell_type": "code",
   "execution_count": null,
   "metadata": {},
   "outputs": [],
   "source": []
  }
 ],
 "metadata": {
  "kernelspec": {
   "display_name": "AvB",
   "language": "python",
   "name": "python3"
  },
  "language_info": {
   "codemirror_mode": {
    "name": "ipython",
    "version": 3
   },
   "file_extension": ".py",
   "mimetype": "text/x-python",
   "name": "python",
   "nbconvert_exporter": "python",
   "pygments_lexer": "ipython3",
   "version": "3.11.9"
  }
 },
 "nbformat": 4,
 "nbformat_minor": 2
}
